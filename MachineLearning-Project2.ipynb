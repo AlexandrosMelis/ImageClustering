{
 "cells": [
  {
   "cell_type": "markdown",
   "metadata": {},
   "source": [
    "# Project 2\n",
    "## Image clustering and compression"
   ]
  },
  {
   "cell_type": "code",
   "execution_count": 1,
   "metadata": {},
   "outputs": [],
   "source": [
    "import numpy as np\n",
    "import matplotlib.pyplot as plt\n",
    "import matplotlib\n",
    "%matplotlib inline\n",
    "import math\n",
    "np.random.seed(0)"
   ]
  },
  {
   "cell_type": "markdown",
   "metadata": {},
   "source": [
    "## Load Data"
   ]
  },
  {
   "cell_type": "code",
   "execution_count": 2,
   "metadata": {
    "scrolled": true
   },
   "outputs": [],
   "source": [
    "from PIL import Image\n",
    "from numpy import asarray\n",
    "\n",
    "#from google.colab import files\n",
    "#uploaded = files.upload()\n",
    "\n",
    "def loadData():\n",
    "  # load the image\n",
    "  image = Image.open('im.jpg')\n",
    "  # convert image to numpy array\n",
    "  data = asarray(image)\n",
    "  # summarize shape\n",
    "  print(\"Image data shape : \",data.shape)\n",
    "    \n",
    "  X= data.reshape(data.shape[0]*data.shape[1],data.shape[2])\n",
    "  print(\"2D image data : \",X.shape)\n",
    "\n",
    "  #Normalize image\n",
    "  X = X.astype(float)/255\n",
    "  #print(\"Normalized X.shape : \",X.shape)\n",
    "\n",
    "  return X"
   ]
  },
  {
   "cell_type": "markdown",
   "metadata": {},
   "source": [
    "## Parameter Initialization"
   ]
  },
  {
   "cell_type": "code",
   "execution_count": 4,
   "metadata": {},
   "outputs": [],
   "source": [
    "def parameterInitialization(K,X): \n",
    "    M = np.array([np.mean(X, axis=0),]*K) + np.random.randn(K,X.shape[1])\n",
    "    S = np.zeros((K)) \n",
    "    p = np.zeros((K))\n",
    "    for k in range(K):\n",
    "        S[k]= np.random.rand(1)\n",
    "        p[k]= 1/K;\n",
    "    return M,S,p"
   ]
  },
  {
   "cell_type": "markdown",
   "metadata": {},
   "source": [
    "## Compute Gaussian distribution"
   ]
  },
  {
   "cell_type": "code",
   "execution_count": 6,
   "metadata": {},
   "outputs": [],
   "source": [
    "def computeGaussianDistr(x,m,s):\n",
    "    return ((1/(np.sqrt(2*math.pi*s)))*np.exp((-1/(2*s))*np.square(x-m))) "
   ]
  },
  {
   "cell_type": "markdown",
   "metadata": {},
   "source": [
    "## Compute gamma"
   ]
  },
  {
   "cell_type": "code",
   "execution_count": 7,
   "metadata": {},
   "outputs": [],
   "source": [
    "def computeGamma(X,M,S,p):\n",
    "    N = X.shape[0]\n",
    "    K = M.shape[0]\n",
    "\n",
    "    gamma = np.zeros((N,K))\n",
    "    L = np.zeros((N,K))\n",
    "    \n",
    "    \n",
    "    for n in range(N):\n",
    "      J=0\n",
    "      for k in range(K):\n",
    "            gamma[n,k] = p[k]*sum(computeGaussianDistr(X[n], M[k],S[k]))\n",
    "            L[n,k] = p[k]*sum(computeGaussianDistr(X[n], M[k],S[k]))\n",
    "            J+= sum(p[k]*computeGaussianDistr(X[n], M[k],S[k]))\n",
    "      \n",
    "      gamma[n] = gamma[n]/J\n",
    "    \n",
    "    return gamma,L"
   ]
  },
  {
   "cell_type": "markdown",
   "metadata": {},
   "source": [
    "## Compute M (means)"
   ]
  },
  {
   "cell_type": "code",
   "execution_count": 9,
   "metadata": {},
   "outputs": [],
   "source": [
    "\n",
    "def computeM(gamma,X,M):\n",
    "    K = M.shape[0]\n",
    "    N = X.shape[0]\n",
    "\n",
    "    for k in range(K):\n",
    "        sumM = np.zeros((3))\n",
    "        total = np.zeros((3))\n",
    "        for i in range(N):\n",
    "            sumM += X[i]*gamma[i,k]\n",
    "            total += gamma[i,k]\n",
    "                \n",
    "        M[k]= sumM/total\n",
    "    return M           \n",
    "    \n",
    "     "
   ]
  },
  {
   "cell_type": "markdown",
   "metadata": {},
   "source": [
    "## Compute S"
   ]
  },
  {
   "cell_type": "code",
   "execution_count": 11,
   "metadata": {},
   "outputs": [],
   "source": [
    "\n",
    "def computeS(gamma,X,M,S):\n",
    "   \n",
    "    N = X.shape[0]\n",
    "    K = M.shape[0]\n",
    "    D = X.shape[1]\n",
    "    for k in range(K):\n",
    "        sumS = 0\n",
    "        total = 0\n",
    "        for i in range(N):\n",
    "            sumS += gamma[i,k] * sum(np.square(X[i]-M[k]))\n",
    "            total += gamma[i,k]\n",
    "        \n",
    "        \n",
    "        S[k]= sumS/(D*total)\n",
    "    return S  "
   ]
  },
  {
   "cell_type": "markdown",
   "metadata": {},
   "source": [
    "## Compute p"
   ]
  },
  {
   "cell_type": "code",
   "execution_count": 13,
   "metadata": {},
   "outputs": [],
   "source": [
    "\n",
    "def computeP(gamma,X,M,p):\n",
    "    K = M.shape[0]\n",
    "    N = M.shape[0]\n",
    "    D = X.shape[1]\n",
    "\n",
    "    for k in range(K):\n",
    "        sumN = 0\n",
    "        for n in range(N):\n",
    "            sumN += gamma[n,k]\n",
    "                \n",
    "        p[k]= sumN\n",
    "    return p/int(N*D)"
   ]
  },
  {
   "cell_type": "markdown",
   "metadata": {},
   "source": [
    "## Likelihood"
   ]
  },
  {
   "cell_type": "code",
   "execution_count": 15,
   "metadata": {},
   "outputs": [],
   "source": [
    "\n",
    "def computeLikelihood(L,X):\n",
    "    N = X.shape[0]\n",
    "\n",
    "    totalCost=0\n",
    "    J=0\n",
    "    for n in range(N):\n",
    "      J = sum(L[n])\n",
    "      totalCost += np.log(J)\n",
    "          \n",
    "            \n",
    "    return totalCost\n",
    "            "
   ]
  },
  {
   "cell_type": "code",
   "execution_count": 17,
   "metadata": {},
   "outputs": [],
   "source": [
    "#plot costs\n",
    "\n",
    "def plot_costs(costs):\n",
    "    x = range(1, len(costs)+1)\n",
    "    y = costs\n",
    "    plt.plot(x, y)\n",
    "    plt.ylabel('cost')\n",
    "    plt.xlabel('iterations')\n",
    "    plt.title(\"Cost Function =\")\n",
    "    plt.xticks(x)\n",
    "    plt.show()"
   ]
  },
  {
   "cell_type": "markdown",
   "metadata": {},
   "source": [
    "## Assign to clusters"
   ]
  },
  {
   "cell_type": "code",
   "execution_count": 18,
   "metadata": {},
   "outputs": [],
   "source": [
    "def assignToClusters(X,M):\n",
    "    \n",
    "  N = X.shape[0]\n",
    "  K = M.shape[0]\n",
    "  D = X.shape[1]\n",
    "  \n",
    "  Xclustered = np.zeros((N,D))\n",
    "  for n in range(N):\n",
    "            dist = np.zeros((K))\n",
    "            for k in range(K):\n",
    "                dist[k] = np.sum(np.square(X[n]-M[k]))\n",
    "            Xclustered[n] = M[np.argmin(dist)]\n",
    "\n",
    "  Xnew = Xclustered.reshape(690,550,3)\n",
    "    \n",
    "\n",
    "\n",
    "  return Xnew,Xclustered"
   ]
  },
  {
   "cell_type": "markdown",
   "metadata": {},
   "source": [
    "## Compute Error"
   ]
  },
  {
   "cell_type": "code",
   "execution_count": 19,
   "metadata": {},
   "outputs": [],
   "source": [
    "def computeError(X,Xclustered):\n",
    "    N = X.shape[0]\n",
    "    D = X.shape[1]\n",
    "    error = 0\n",
    "    for n in range(N):\n",
    "        error += sum(np.square(X[n]-Xclustered[n]))\n",
    "    \n",
    "    return error/int(N*D)"
   ]
  },
  {
   "cell_type": "markdown",
   "metadata": {},
   "source": [
    "## Expectation-Maximization Algorithm"
   ]
  },
  {
   "cell_type": "code",
   "execution_count": 20,
   "metadata": {},
   "outputs": [],
   "source": [
    "def expectation_maximization():\n",
    "    \n",
    "    X = loadData()\n",
    "\n",
    "    N = X.shape[0]\n",
    "    D = X.shape[1]\n",
    "    \n",
    "    #number of clusters\n",
    "    clusterNum = 4\n",
    "\n",
    "    M,S,p = parameterInitialization(clusterNum,X)\n",
    "\n",
    "    K = M.shape[0]\n",
    "    \n",
    "    tol = 1e-6#tolerance of convergence\n",
    "    Jold = np.inf\n",
    "    maxIters = 5#number of iterations\n",
    "    \n",
    "    costs = []\n",
    "    \n",
    "    for it in range(maxIters):  \n",
    "        J=0\n",
    "\n",
    "        gamma,L = computeGamma(X,M,S,p)\n",
    "        #print(\"telos G----\")\n",
    "\n",
    "        M = computeM(gamma,X,M)\n",
    "        #print(\"telos M----\")\n",
    "        \n",
    "        S = computeS(gamma,X,M,S)\n",
    "        #print(\"telos S----\")\n",
    "        \n",
    "        p = computeP(gamma,X,M,p)\n",
    "        #print(\"telos p----\")\n",
    "        \n",
    "        J = computeLikelihood(L,X)\n",
    "        #print(\"telos J----\")\n",
    "        costs.append(J)\n",
    "        \n",
    "        Xnew,Xclustered = assignToClusters(X,M)\n",
    "        \n",
    "        \n",
    "        err = computeError(X,Xclustered)\n",
    "        \n",
    "        print(\"Iteration #{}, Cost function value: {}\".format(it, J))\n",
    "        print(\"Error : \",err)\n",
    "        \n",
    "        #plot image\n",
    "        plt.imshow(Xnew)  \n",
    "        plt.show()\n",
    "        \n",
    "        #save image, number of clusters, error, cost function value, iteration\n",
    "        if it == 4 or (np.abs(J - Jold) < tol):\n",
    "            L = \"Number of clusters : \"+str(clusterNum)+\" Error : \"+str(err)+\" Cost function value : \"+str(J)+\" Iteration : \"+str(it)+'\\n'\n",
    "            file1 = open(\"results.txt\",\"a\") \n",
    "            file1.writelines(L) \n",
    "            file1.close() \n",
    "            matplotlib.image.imsave('cluster'+str(clusterNum)+'.jpeg', Xnew)\n",
    "        \n",
    "        if np.abs(J - Jold) < tol:\n",
    "            break\n",
    "        Jold = J\n",
    "        \n",
    "        # Plot the cost function\n",
    "    plot_costs(costs)\n",
    "  "
   ]
  },
  {
   "cell_type": "code",
   "execution_count": 21,
   "metadata": {},
   "outputs": [
    {
     "name": "stdout",
     "output_type": "stream",
     "text": [
      "Image data shape :  (690, 550, 3)\n",
      "2D image data :  (379500, 3)\n",
      "Iteration #0, Cost function value: 81018.10705100064\n",
      "Error :  0.03655464847347009\n"
     ]
    },
    {
     "data": {
      "image/png": "[encoded data removed]",
      "text/plain": [
       "<Figure size 432x288 with 1 Axes>"
      ]
     },
     "metadata": {
      "needs_background": "light"
     },
     "output_type": "display_data"
    },
    {
     "name": "stdout",
     "output_type": "stream",
     "text": [
      "Iteration #1, Cost function value: 50987.17764246336\n",
      "Error :  0.024276572856717613\n"
     ]
    },
    {
     "data": {
      "image/png": "[encoded data removed]",
      "text/plain": [
       "<Figure size 432x288 with 1 Axes>"
      ]
     },
     "metadata": {
      "needs_background": "light"
     },
     "output_type": "display_data"
    },
    {
     "name": "stdout",
     "output_type": "stream",
     "text": [
      "Iteration #2, Cost function value: 119728.6147115836\n",
      "Error :  0.013158113623001339\n"
     ]
    },
    {
     "data": {
      "image/png": "[encoded data removed]",
      "text/plain": [
       "<Figure size 432x288 with 1 Axes>"
      ]
     },
     "metadata": {
      "needs_background": "light"
     },
     "output_type": "display_data"
    },
    {
     "name": "stdout",
     "output_type": "stream",
     "text": [
      "Iteration #3, Cost function value: 171825.3426989897\n",
      "Error :  0.00917501022855093\n"
     ]
    },
    {
     "data": {
      "image/png": "[encoded data removed]",
      "text/plain": [
       "<Figure size 432x288 with 1 Axes>"
      ]
     },
     "metadata": {
      "needs_background": "light"
     },
     "output_type": "display_data"
    },
    {
     "name": "stdout",
     "output_type": "stream",
     "text": [
      "Iteration #4, Cost function value: 139866.71081746725\n",
      "Error :  0.009475530758459654\n"
     ]
    },
    {
     "data": {
      "image/png": "[encoded data removed]",
      "text/plain": [
       "<Figure size 432x288 with 1 Axes>"
      ]
     },
     "metadata": {
      "needs_background": "light"
     },
     "output_type": "display_data"
    },
    {
     "data": {
      "image/png": "[encoded data removed]",
      "text/plain": [
       "<Figure size 432x288 with 1 Axes>"
      ]
     },
     "metadata": {
      "needs_background": "light"
     },
     "output_type": "display_data"
    }
   ],
   "source": [
    "expectation_maximization()"
   ]
  },
  {
   "cell_type": "markdown",
   "metadata": {},
   "source": [
    "# Results"
   ]
  },
  {
   "cell_type": "markdown",
   "metadata": {},
   "source": [
    "### Number of clusters : 1 Error : 0.058246289566929205 Cost function value : 10909.841345655555 Iteration : 2\n",
    "<img src=\"cluster1.jpeg\">\n",
    "\n",
    "### Number of clusters : 2 Error : 0.024593053907244585 Cost function value : 10707.675906055047 Iteration : 9\n",
    "<img src=\"cluster2.jpeg\">\n",
    "\n",
    "### Number of clusters : 4 Error : 0.009019678238801575 Cost function value : 35151.05296074044 Iteration : 9\n",
    "<img src=\"cluster4.jpeg\">\n",
    "\n",
    "### Number of clusters : 8 Error : 0.003360714492447148 Cost function value : 187222.68587400747 Iteration : 4\n",
    "<img src=\"cluster8.jpeg\">\n",
    "\n",
    "### Number of clusters : 16 Error : 0.0034860872308904024 Cost function value : 165392.3968348969 Iteration : 4\n",
    "<img src=\"cluster16.jpeg\">\n",
    "\n",
    "### Number of clusters : 32 Error : 0.0024764295125104894 Cost function value : 187705.83845152674 Iteration : 4\n",
    "<img src=\"cluster32.jpeg\">\n",
    "\n",
    "### Number of clusters : 64 Error : 0.0020016970329726374 Cost function value : 220897.05915570358 Iteration : 4\n",
    "<img src=\"cluster64.jpeg\">"
   ]
  },
  {
   "cell_type": "code",
   "execution_count": null,
   "metadata": {},
   "outputs": [],
   "source": []
  }
 ],
 "metadata": {
  "kernelspec": {
   "display_name": "Python 3",
   "language": "python",
   "name": "python3"
  },
  "language_info": {
   "codemirror_mode": {
    "name": "ipython",
    "version": 3
   },
   "file_extension": ".py",
   "mimetype": "text/x-python",
   "name": "python",
   "nbconvert_exporter": "python",
   "pygments_lexer": "ipython3",
   "version": "3.7.3"
  }
 },
 "nbformat": 4,
 "nbformat_minor": 2
}
